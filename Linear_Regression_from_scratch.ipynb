{
  "nbformat": 4,
  "nbformat_minor": 0,
  "metadata": {
    "colab": {
      "provenance": []
    },
    "kernelspec": {
      "name": "python3",
      "display_name": "Python 3"
    },
    "language_info": {
      "name": "python"
    }
  },
  "cells": [
    {
      "cell_type": "code",
      "execution_count": 2,
      "metadata": {
        "id": "CWb5v5pZfmdv"
      },
      "outputs": [],
      "source": [
        "import numpy as np\n",
        "from sklearn.datasets import load_diabetes"
      ]
    },
    {
      "cell_type": "code",
      "source": [
        "X,y= load_diabetes(return_X_y=True)"
      ],
      "metadata": {
        "id": "wB_31z82gDqB"
      },
      "execution_count": 3,
      "outputs": []
    },
    {
      "cell_type": "code",
      "source": [
        "X"
      ],
      "metadata": {
        "colab": {
          "base_uri": "https://localhost:8080/"
        },
        "id": "Qo22tBnpgDr3",
        "outputId": "2ec5bbea-b624-40e9-912a-99723ba26ab5"
      },
      "execution_count": 4,
      "outputs": [
        {
          "output_type": "execute_result",
          "data": {
            "text/plain": [
              "array([[ 0.03807591,  0.05068012,  0.06169621, ..., -0.00259226,\n",
              "         0.01990842, -0.01764613],\n",
              "       [-0.00188202, -0.04464164, -0.05147406, ..., -0.03949338,\n",
              "        -0.06832974, -0.09220405],\n",
              "       [ 0.08529891,  0.05068012,  0.04445121, ..., -0.00259226,\n",
              "         0.00286377, -0.02593034],\n",
              "       ...,\n",
              "       [ 0.04170844,  0.05068012, -0.01590626, ..., -0.01107952,\n",
              "        -0.04687948,  0.01549073],\n",
              "       [-0.04547248, -0.04464164,  0.03906215, ...,  0.02655962,\n",
              "         0.04452837, -0.02593034],\n",
              "       [-0.04547248, -0.04464164, -0.0730303 , ..., -0.03949338,\n",
              "        -0.00421986,  0.00306441]])"
            ]
          },
          "metadata": {},
          "execution_count": 4
        }
      ]
    },
    {
      "cell_type": "code",
      "source": [
        "y"
      ],
      "metadata": {
        "colab": {
          "base_uri": "https://localhost:8080/"
        },
        "id": "g6v6_zxZgVou",
        "outputId": "e9ee8317-e98d-41a8-ca81-da800eb0fd66"
      },
      "execution_count": 5,
      "outputs": [
        {
          "output_type": "execute_result",
          "data": {
            "text/plain": [
              "array([151.,  75., 141., 206., 135.,  97., 138.,  63., 110., 310., 101.,\n",
              "        69., 179., 185., 118., 171., 166., 144.,  97., 168.,  68.,  49.,\n",
              "        68., 245., 184., 202., 137.,  85., 131., 283., 129.,  59., 341.,\n",
              "        87.,  65., 102., 265., 276., 252.,  90., 100.,  55.,  61.,  92.,\n",
              "       259.,  53., 190., 142.,  75., 142., 155., 225.,  59., 104., 182.,\n",
              "       128.,  52.,  37., 170., 170.,  61., 144.,  52., 128.,  71., 163.,\n",
              "       150.,  97., 160., 178.,  48., 270., 202., 111.,  85.,  42., 170.,\n",
              "       200., 252., 113., 143.,  51.,  52., 210.,  65., 141.,  55., 134.,\n",
              "        42., 111.,  98., 164.,  48.,  96.,  90., 162., 150., 279.,  92.,\n",
              "        83., 128., 102., 302., 198.,  95.,  53., 134., 144., 232.,  81.,\n",
              "       104.,  59., 246., 297., 258., 229., 275., 281., 179., 200., 200.,\n",
              "       173., 180.,  84., 121., 161.,  99., 109., 115., 268., 274., 158.,\n",
              "       107.,  83., 103., 272.,  85., 280., 336., 281., 118., 317., 235.,\n",
              "        60., 174., 259., 178., 128.,  96., 126., 288.,  88., 292.,  71.,\n",
              "       197., 186.,  25.,  84.,  96., 195.,  53., 217., 172., 131., 214.,\n",
              "        59.,  70., 220., 268., 152.,  47.,  74., 295., 101., 151., 127.,\n",
              "       237., 225.,  81., 151., 107.,  64., 138., 185., 265., 101., 137.,\n",
              "       143., 141.,  79., 292., 178.,  91., 116.,  86., 122.,  72., 129.,\n",
              "       142.,  90., 158.,  39., 196., 222., 277.,  99., 196., 202., 155.,\n",
              "        77., 191.,  70.,  73.,  49.,  65., 263., 248., 296., 214., 185.,\n",
              "        78.,  93., 252., 150.,  77., 208.,  77., 108., 160.,  53., 220.,\n",
              "       154., 259.,  90., 246., 124.,  67.,  72., 257., 262., 275., 177.,\n",
              "        71.,  47., 187., 125.,  78.,  51., 258., 215., 303., 243.,  91.,\n",
              "       150., 310., 153., 346.,  63.,  89.,  50.,  39., 103., 308., 116.,\n",
              "       145.,  74.,  45., 115., 264.,  87., 202., 127., 182., 241.,  66.,\n",
              "        94., 283.,  64., 102., 200., 265.,  94., 230., 181., 156., 233.,\n",
              "        60., 219.,  80.,  68., 332., 248.,  84., 200.,  55.,  85.,  89.,\n",
              "        31., 129.,  83., 275.,  65., 198., 236., 253., 124.,  44., 172.,\n",
              "       114., 142., 109., 180., 144., 163., 147.,  97., 220., 190., 109.,\n",
              "       191., 122., 230., 242., 248., 249., 192., 131., 237.,  78., 135.,\n",
              "       244., 199., 270., 164.,  72.,  96., 306.,  91., 214.,  95., 216.,\n",
              "       263., 178., 113., 200., 139., 139.,  88., 148.,  88., 243.,  71.,\n",
              "        77., 109., 272.,  60.,  54., 221.,  90., 311., 281., 182., 321.,\n",
              "        58., 262., 206., 233., 242., 123., 167.,  63., 197.,  71., 168.,\n",
              "       140., 217., 121., 235., 245.,  40.,  52., 104., 132.,  88.,  69.,\n",
              "       219.,  72., 201., 110.,  51., 277.,  63., 118.,  69., 273., 258.,\n",
              "        43., 198., 242., 232., 175.,  93., 168., 275., 293., 281.,  72.,\n",
              "       140., 189., 181., 209., 136., 261., 113., 131., 174., 257.,  55.,\n",
              "        84.,  42., 146., 212., 233.,  91., 111., 152., 120.,  67., 310.,\n",
              "        94., 183.,  66., 173.,  72.,  49.,  64.,  48., 178., 104., 132.,\n",
              "       220.,  57.])"
            ]
          },
          "metadata": {},
          "execution_count": 5
        }
      ]
    },
    {
      "cell_type": "code",
      "source": [
        "X.shape"
      ],
      "metadata": {
        "colab": {
          "base_uri": "https://localhost:8080/"
        },
        "id": "IzD0AfgHgVqV",
        "outputId": "e4a42ef7-842a-4565-a6db-30081d9f862c"
      },
      "execution_count": 6,
      "outputs": [
        {
          "output_type": "execute_result",
          "data": {
            "text/plain": [
              "(442, 10)"
            ]
          },
          "metadata": {},
          "execution_count": 6
        }
      ]
    },
    {
      "cell_type": "code",
      "source": [
        "y.shape"
      ],
      "metadata": {
        "colab": {
          "base_uri": "https://localhost:8080/"
        },
        "id": "ZxLrZgatgVt1",
        "outputId": "58aa4efc-663e-46fa-a70e-8eaf76397f1d"
      },
      "execution_count": 7,
      "outputs": [
        {
          "output_type": "execute_result",
          "data": {
            "text/plain": [
              "(442,)"
            ]
          },
          "metadata": {},
          "execution_count": 7
        }
      ]
    },
    {
      "cell_type": "code",
      "source": [
        "from sklearn.model_selection import train_test_split\n",
        "X_train, X_test, y_train, y_test = train_test_split(X,y,test_size=0.2, random_state=48)"
      ],
      "metadata": {
        "id": "UQRY-_z7gDtn"
      },
      "execution_count": 8,
      "outputs": []
    },
    {
      "cell_type": "code",
      "source": [
        "X_train.shape"
      ],
      "metadata": {
        "colab": {
          "base_uri": "https://localhost:8080/"
        },
        "id": "yK7H1YZygDvC",
        "outputId": "6dc5b6c8-a653-457d-9659-c0903fa7f5e4"
      },
      "execution_count": 9,
      "outputs": [
        {
          "output_type": "execute_result",
          "data": {
            "text/plain": [
              "(353, 10)"
            ]
          },
          "metadata": {},
          "execution_count": 9
        }
      ]
    },
    {
      "cell_type": "code",
      "source": [
        "y_train.shape"
      ],
      "metadata": {
        "colab": {
          "base_uri": "https://localhost:8080/"
        },
        "id": "j5EvOTGGg23g",
        "outputId": "e8f807dd-8a8b-4b61-ff35-84d66c7c83c5"
      },
      "execution_count": 10,
      "outputs": [
        {
          "output_type": "execute_result",
          "data": {
            "text/plain": [
              "(353,)"
            ]
          },
          "metadata": {},
          "execution_count": 10
        }
      ]
    },
    {
      "cell_type": "code",
      "source": [
        "from sklearn.linear_model import LinearRegression\n",
        "lr = LinearRegression()"
      ],
      "metadata": {
        "id": "RJK0j4PWg25s"
      },
      "execution_count": 11,
      "outputs": []
    },
    {
      "cell_type": "code",
      "source": [
        "lr.fit(X_train, y_train)"
      ],
      "metadata": {
        "colab": {
          "base_uri": "https://localhost:8080/"
        },
        "id": "kL2nCTa6g29B",
        "outputId": "2496db60-1057-480f-bf88-6bbedf501b16"
      },
      "execution_count": 12,
      "outputs": [
        {
          "output_type": "execute_result",
          "data": {
            "text/plain": [
              "LinearRegression()"
            ]
          },
          "metadata": {},
          "execution_count": 12
        }
      ]
    },
    {
      "cell_type": "code",
      "source": [
        "y_pred = lr.predict(X_test)"
      ],
      "metadata": {
        "id": "2b4h7DWXgDxG"
      },
      "execution_count": 13,
      "outputs": []
    },
    {
      "cell_type": "code",
      "source": [
        "y_pred"
      ],
      "metadata": {
        "colab": {
          "base_uri": "https://localhost:8080/"
        },
        "id": "uRxUhSkLkB0I",
        "outputId": "741da2ff-e2d0-4d92-e70c-0a9c490dde94"
      },
      "execution_count": 30,
      "outputs": [
        {
          "output_type": "execute_result",
          "data": {
            "text/plain": [
              "array([ 71.9235596 ,  86.71143741, 109.59800614, 253.47704925,\n",
              "       218.3391544 , 110.50567183, 154.14258968, 109.27894661,\n",
              "       176.2493745 , 134.83746092, 104.4662564 , 184.70419276,\n",
              "       192.15344246, 220.91170834, 184.98453337, 183.45615472,\n",
              "       204.18734103, 206.62498292, 209.38042909, 169.40022397,\n",
              "        65.53974048, 149.91338053,  41.65215377,  52.65438687,\n",
              "       188.69563739, 212.47286501,  54.71477426, 148.30424967,\n",
              "       201.71210745, 223.32745665, 208.62466511, 151.94168287,\n",
              "       163.89793863, 169.65258335, 207.37644416,  90.27028361,\n",
              "       150.93281516, 121.35655225, 191.90840597, 109.93065743,\n",
              "        50.84096266, 143.53633102,  85.87620034, 163.90745505,\n",
              "       222.70826004, 153.59342207, 124.79640581, 167.70329522,\n",
              "       120.12307872, 190.45458729, 212.65934268, 101.78859675,\n",
              "        88.46948065, 109.61768396,  54.15884652, 194.44293908,\n",
              "       147.49558177, 126.57282585, 156.5482368 ,  78.8686301 ,\n",
              "       147.18118232, 248.31675458, 186.17195254, 189.27509584,\n",
              "       122.72795702, 231.08575718, 136.45722493,  59.51643624,\n",
              "       186.85784865, 233.41811476,  93.2197359 , 231.94834187,\n",
              "       121.79468566, 181.3468054 , 176.89490525,  32.81918213,\n",
              "       101.54063674,  78.67417939, 228.26182303, 283.35457567,\n",
              "       120.19492555, 179.93860382, 150.3272617 , 105.95219618,\n",
              "       149.56588596, 137.04439869,  87.08681545, 284.90269697,\n",
              "       138.11726088])"
            ]
          },
          "metadata": {},
          "execution_count": 30
        }
      ]
    },
    {
      "cell_type": "code",
      "source": [
        "from sklearn.metrics import r2_score\n",
        "r2_score(y_test, y_pred)"
      ],
      "metadata": {
        "colab": {
          "base_uri": "https://localhost:8080/"
        },
        "id": "sTThTkZthJhO",
        "outputId": "77b2fd06-f8b8-45ee-e42c-50026b27f16f"
      },
      "execution_count": 14,
      "outputs": [
        {
          "output_type": "execute_result",
          "data": {
            "text/plain": [
              "0.5639138729762289"
            ]
          },
          "metadata": {},
          "execution_count": 14
        }
      ]
    },
    {
      "cell_type": "code",
      "source": [
        "lr.coef_"
      ],
      "metadata": {
        "colab": {
          "base_uri": "https://localhost:8080/"
        },
        "id": "A3KUs5nQhJis",
        "outputId": "842d5e02-b0e7-4a86-b15a-f556d4c04781"
      },
      "execution_count": 15,
      "outputs": [
        {
          "output_type": "execute_result",
          "data": {
            "text/plain": [
              "array([  24.74412593, -234.99917259,  508.83304768,  313.71484428,\n",
              "       -926.24753406,  556.81923022,  181.81411127,  235.01027595,\n",
              "        778.60219675,   59.79908522])"
            ]
          },
          "metadata": {},
          "execution_count": 15
        }
      ]
    },
    {
      "cell_type": "code",
      "source": [
        "lr.intercept_"
      ],
      "metadata": {
        "colab": {
          "base_uri": "https://localhost:8080/"
        },
        "id": "RlPY2d_lhJmN",
        "outputId": "2b649437-c267-4f38-c56e-33461e8610b7"
      },
      "execution_count": 16,
      "outputs": [
        {
          "output_type": "execute_result",
          "data": {
            "text/plain": [
              "149.84245859442606"
            ]
          },
          "metadata": {},
          "execution_count": 16
        }
      ]
    },
    {
      "cell_type": "markdown",
      "source": [
        "# Linear Regression without Scikit learn"
      ],
      "metadata": {
        "id": "cw1P3y4Nkwc6"
      }
    },
    {
      "cell_type": "code",
      "source": [
        "class LinearReg:\n",
        "\n",
        "  def __init__(self):\n",
        "    self.coef_ = None\n",
        "    self.intercept_ = None\n",
        "\n",
        "  # we need to find beta values\n",
        "  def fit(self, X_train, y_train):\n",
        "\n",
        "    X_train = np.insert(X_train, 0, 1, axis=1)  # adding extra 1 column in the matrix\n",
        "    \n",
        "    \n",
        "    # calculate the beta coef.\n",
        "    betas = np.linalg.inv(np.dot(X_train.T, X_train)).dot(X_train.T).dot(y_train)\n",
        "\n",
        "    self.intercept_ = betas[0]\n",
        "    self.coef_ = betas[1:]\n",
        "\n",
        "  def predict(self, X_test):\n",
        "    \n",
        "    # y = X.dot(coef_)\n",
        "\n",
        "    y_pred = np.dot(X_test, self.coef_) + self.intercept_\n",
        "\n",
        "    return y_pred\n"
      ],
      "metadata": {
        "id": "oLbKgRK5hlJc"
      },
      "execution_count": 27,
      "outputs": []
    },
    {
      "cell_type": "code",
      "source": [
        "lin_reg = LinearReg()"
      ],
      "metadata": {
        "id": "SwD4OjALhlLU"
      },
      "execution_count": 32,
      "outputs": []
    },
    {
      "cell_type": "code",
      "source": [
        "lin_reg.fit(X_train, y_train)"
      ],
      "metadata": {
        "id": "ZylwRDE3hlNP"
      },
      "execution_count": 33,
      "outputs": []
    },
    {
      "cell_type": "code",
      "source": [
        "lin_reg.predict(X_test)"
      ],
      "metadata": {
        "colab": {
          "base_uri": "https://localhost:8080/"
        },
        "id": "iuTQSNE0hlOx",
        "outputId": "7adbcd79-3738-40bb-a2cb-3567f39f2de1"
      },
      "execution_count": 34,
      "outputs": [
        {
          "output_type": "execute_result",
          "data": {
            "text/plain": [
              "array([ 71.9235596 ,  86.71143741, 109.59800614, 253.47704925,\n",
              "       218.3391544 , 110.50567183, 154.14258968, 109.27894661,\n",
              "       176.2493745 , 134.83746092, 104.4662564 , 184.70419276,\n",
              "       192.15344246, 220.91170834, 184.98453337, 183.45615472,\n",
              "       204.18734103, 206.62498292, 209.38042909, 169.40022397,\n",
              "        65.53974048, 149.91338053,  41.65215377,  52.65438687,\n",
              "       188.69563739, 212.47286501,  54.71477426, 148.30424967,\n",
              "       201.71210745, 223.32745665, 208.62466511, 151.94168287,\n",
              "       163.89793863, 169.65258335, 207.37644416,  90.27028361,\n",
              "       150.93281516, 121.35655225, 191.90840597, 109.93065743,\n",
              "        50.84096266, 143.53633102,  85.87620034, 163.90745505,\n",
              "       222.70826004, 153.59342207, 124.79640581, 167.70329522,\n",
              "       120.12307872, 190.45458729, 212.65934268, 101.78859675,\n",
              "        88.46948065, 109.61768396,  54.15884652, 194.44293908,\n",
              "       147.49558177, 126.57282585, 156.5482368 ,  78.8686301 ,\n",
              "       147.18118232, 248.31675458, 186.17195254, 189.27509584,\n",
              "       122.72795702, 231.08575718, 136.45722493,  59.51643624,\n",
              "       186.85784865, 233.41811476,  93.2197359 , 231.94834187,\n",
              "       121.79468566, 181.3468054 , 176.89490525,  32.81918213,\n",
              "       101.54063674,  78.67417939, 228.26182303, 283.35457567,\n",
              "       120.19492555, 179.93860382, 150.3272617 , 105.95219618,\n",
              "       149.56588596, 137.04439869,  87.08681545, 284.90269697,\n",
              "       138.11726088])"
            ]
          },
          "metadata": {},
          "execution_count": 34
        }
      ]
    },
    {
      "cell_type": "code",
      "source": [
        "lin_reg.coef_"
      ],
      "metadata": {
        "colab": {
          "base_uri": "https://localhost:8080/"
        },
        "id": "T6s2WpEfhlQp",
        "outputId": "cc033b84-dfad-440e-fa97-621ef131cf3b"
      },
      "execution_count": 35,
      "outputs": [
        {
          "output_type": "execute_result",
          "data": {
            "text/plain": [
              "array([  24.74412593, -234.99917259,  508.83304768,  313.71484428,\n",
              "       -926.24753406,  556.81923022,  181.81411127,  235.01027595,\n",
              "        778.60219675,   59.79908522])"
            ]
          },
          "metadata": {},
          "execution_count": 35
        }
      ]
    },
    {
      "cell_type": "code",
      "source": [
        "lin_reg.intercept_"
      ],
      "metadata": {
        "colab": {
          "base_uri": "https://localhost:8080/"
        },
        "id": "sOC99nGshlUD",
        "outputId": "80a12486-0964-4dff-bad2-7062625e172a"
      },
      "execution_count": 36,
      "outputs": [
        {
          "output_type": "execute_result",
          "data": {
            "text/plain": [
              "149.84245859442612"
            ]
          },
          "metadata": {},
          "execution_count": 36
        }
      ]
    },
    {
      "cell_type": "code",
      "source": [],
      "metadata": {
        "id": "oEQDvFqYgDzA"
      },
      "execution_count": null,
      "outputs": []
    }
  ]
}